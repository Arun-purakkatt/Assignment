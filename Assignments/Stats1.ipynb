{
 "cells": [
  {
   "cell_type": "code",
   "execution_count": null,
   "metadata": {},
   "outputs": [],
   "source": []
  },
  {
   "cell_type": "markdown",
   "metadata": {},
   "source": [
    "Problem Statement 1: \n",
    "    \n",
    "    You survey households in your area to find the average rent they are paying. Find the standard deviation from the following data:  \n",
    "    $ 1550, $ 1700, $ 900, $ 850, $ 1000, $ 950.   "
   ]
  },
  {
   "cell_type": "code",
   "execution_count": 2,
   "metadata": {},
   "outputs": [],
   "source": [
    "#finding mean average\n",
    "\n",
    "def find_ave(data):\n",
    "    return sum(data)/len(data)"
   ]
  },
  {
   "cell_type": "code",
   "execution_count": 3,
   "metadata": {},
   "outputs": [],
   "source": [
    "from math import sqrt\n",
    "def find_variance(data):\n",
    " variance = 0.0\n",
    " mean = find_ave(data)\n",
    " variance = sum((x - mean)**2 for x in data) / (len(data)-1)\n",
    " return variance"
   ]
  },
  {
   "cell_type": "code",
   "execution_count": 10,
   "metadata": {},
   "outputs": [],
   "source": [
    "#find standard deviation\n",
    "\n",
    "def find_std_dev(data):\n",
    "    return find_variance(data)**0.5"
   ]
  },
  {
   "cell_type": "code",
   "execution_count": 11,
   "metadata": {},
   "outputs": [],
   "source": [
    "data = [1550,1700,900,850,1000,950]"
   ]
  },
  {
   "cell_type": "code",
   "execution_count": 14,
   "metadata": {},
   "outputs": [
    {
     "name": "stdout",
     "output_type": "stream",
     "text": [
      "std_dev 367.99003609699366 Average 1158.3333333333333 Varience 135416.6666666667\n"
     ]
    }
   ],
   "source": [
    "print(\"std_dev \" + str(find_std_dev(data)), \"Average \"+str(find_ave(data)),\"Varience \"+str(find_variance(data)))"
   ]
  },
  {
   "cell_type": "markdown",
   "metadata": {},
   "source": [
    "problem statement 2\n",
    "\n",
    "    Find the variance for the following set of data representing trees in California (heights in feet):3, 21, 98, 203, 17, 9"
   ]
  },
  {
   "cell_type": "code",
   "execution_count": 15,
   "metadata": {},
   "outputs": [],
   "source": [
    "data1= [3,21,98,203,17,9]"
   ]
  },
  {
   "cell_type": "code",
   "execution_count": 16,
   "metadata": {},
   "outputs": [
    {
     "name": "stdout",
     "output_type": "stream",
     "text": [
      "variance 6219.9\n"
     ]
    }
   ],
   "source": [
    "print (\"variance \" + str(find_variance(data1)))"
   ]
  },
  {
   "cell_type": "markdown",
   "metadata": {},
   "source": [
    "Problem 3:\n",
    "    \n",
    "    In a class on 100 students, 80 students passed in all subjects, 10 failed in one subject, 7 failed in two subjects and 3 failed in three subjects. Find the probability distribution of the variable for number of subjects a student from the given class has failed in."
   ]
  },
  {
   "cell_type": "code",
   "execution_count": 18,
   "metadata": {},
   "outputs": [
    {
     "name": "stdout",
     "output_type": "stream",
     "text": [
      "The probability of failing in i subjects, P(X=0)=0.8\n",
      "The probability of failing in i subjects, P(X=1)=0.1\n",
      "The probability of failing in i subjects, P(X=2)=0.07\n",
      "The probability of failing in i subjects, P(X=3)=0.03\n"
     ]
    }
   ],
   "source": [
    "data2=[80,10,7,3]\n",
    "count=-1\n",
    "for i in data2:\n",
    "    count+=1\n",
    "    print(\"The probability of failing in i subjects, P(X=\"+str(count)+\")=\"+str(i/100))"
   ]
  },
  {
   "cell_type": "code",
   "execution_count": null,
   "metadata": {},
   "outputs": [],
   "source": []
  }
 ],
 "metadata": {
  "kernelspec": {
   "display_name": "Python 3",
   "language": "python",
   "name": "python3"
  },
  "language_info": {
   "codemirror_mode": {
    "name": "ipython",
    "version": 3
   },
   "file_extension": ".py",
   "mimetype": "text/x-python",
   "name": "python",
   "nbconvert_exporter": "python",
   "pygments_lexer": "ipython3",
   "version": "3.7.3"
  }
 },
 "nbformat": 4,
 "nbformat_minor": 2
}
